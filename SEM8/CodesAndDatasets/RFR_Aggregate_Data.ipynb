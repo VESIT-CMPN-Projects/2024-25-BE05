{
  "nbformat": 4,
  "nbformat_minor": 0,
  "metadata": {
    "colab": {
      "provenance": [],
      "collapsed_sections": [
        "3IfoeXqTH9RZ"
      ],
      "include_colab_link": true
    },
    "kernelspec": {
      "name": "python3",
      "display_name": "Python 3"
    },
    "language_info": {
      "name": "python"
    }
  },
  "cells": [
    {
      "cell_type": "markdown",
      "metadata": {
        "id": "view-in-github",
        "colab_type": "text"
      },
      "source": [
        "<a href=\"https://colab.research.google.com/github/vishakhasingh2003/5-ML_DS-FarmImpact/blob/main/RFR_Aggregate_Data.ipynb\" target=\"_parent\"><img src=\"https://colab.research.google.com/assets/colab-badge.svg\" alt=\"Open In Colab\"/></a>"
      ]
    },
    {
      "cell_type": "code",
      "execution_count": null,
      "metadata": {
        "colab": {
          "base_uri": "https://localhost:8080/"
        },
        "id": "hot2awHV8l-e",
        "outputId": "2c0aae22-f7ac-4dda-b509-b397890846f9"
      },
      "outputs": [
        {
          "output_type": "stream",
          "name": "stderr",
          "text": [
            "Downloading...\n",
            "From: https://drive.google.com/uc?id=1KXMl4EVNofFnGsypt1UpZ4GJL6pGLJCe\n",
            "To: /content/maharashtra_aggregate_1966_2017.csv\n",
            "100%|██████████| 277k/277k [00:00<00:00, 14.2MB/s]\n"
          ]
        }
      ],
      "source": [
        "import gdown\n",
        "file_id = '1KXMl4EVNofFnGsypt1UpZ4GJL6pGLJCe'\n",
        "url = f'https://drive.google.com/uc?id={file_id}'\n",
        "output = 'maharashtra_aggregate_1966_2017.csv'\n",
        "gdown.download(url, output, quiet=False)\n",
        "import pandas as pd\n",
        "df = pd.read_csv('maharashtra_aggregate_1966_2017.csv')"
      ]
    },
    {
      "cell_type": "markdown",
      "source": [
        "# Anu major 5"
      ],
      "metadata": {
        "id": "3IfoeXqTH9RZ"
      }
    },
    {
      "cell_type": "code",
      "source": [
        "import pandas as pd\n",
        "import numpy as np\n",
        "from sklearn.ensemble import RandomForestRegressor\n",
        "from sklearn.metrics import mean_squared_error, mean_absolute_error, r2_score\n",
        "from sklearn.model_selection import train_test_split\n",
        "from sklearn.preprocessing import MinMaxScaler\n",
        "\n",
        "# Function to calculate evaluation metrics\n",
        "def calculate_metrics(y_true, y_pred):\n",
        "    mse = mean_squared_error(y_true, y_pred)\n",
        "    rmse = np.sqrt(mse)\n",
        "    mae = mean_absolute_error(y_true, y_pred)\n",
        "    mape = np.mean(np.abs((y_true - y_pred) / y_true)) * 100\n",
        "    r_squared = r2_score(y_true, y_pred)\n",
        "    return {'MSE': mse, 'RMSE': rmse, 'MAE': mae, 'MAPE': mape, 'R^2': r_squared}\n",
        "\n",
        "# Load your data\n",
        "# Ensure your dataset has columns: 'Year', 'District', and other features\n",
        "df = pd.read_csv('/content/Major_5_District.csv')\n",
        "\n",
        "# Districts in Maharashtra\n",
        "districts = ['Akola', 'Kolhapur', 'Ratnagiri', 'Pune', 'Wardha']\n",
        "\n",
        "# Results dictionary to store evaluation metrics for each district\n",
        "results = {}\n",
        "\n",
        "# Loop through each district\n",
        "for district in districts:\n",
        "    print(f\"Processing district: {district}\")\n",
        "\n",
        "    # Filter data for the district\n",
        "    district_data = df[df['Dist Name'] == district].copy()\n",
        "\n",
        "    # Drop non-predictive columns\n",
        "    X = district_data.drop(columns=['Year', 'Dist Name', 'Production'])  # Replace 'Target_Variable' with your target column\n",
        "    y = district_data['Production']\n",
        "\n",
        "    # Normalize features\n",
        "    scaler = MinMaxScaler()\n",
        "    X_scaled = scaler.fit_transform(X)\n",
        "\n",
        "    # Split into training and testing sets\n",
        "    X_train, X_test, y_train, y_test = train_test_split(X_scaled, y, test_size=0.2, random_state=42)\n",
        "\n",
        "    # Train the Random Forest model\n",
        "    rf = RandomForestRegressor(n_estimators=100, random_state=42)\n",
        "    rf.fit(X_train, y_train)\n",
        "\n",
        "    # Predict on test data\n",
        "    y_pred = rf.predict(X_test)\n",
        "\n",
        "    # Calculate evaluation metrics\n",
        "    metrics = calculate_metrics(y_test, y_pred)\n",
        "    results[district] = metrics\n",
        "\n",
        "    # Predict for the next 15 years\n",
        "    future_years = np.arange(2018, 2018 + 15).reshape(-1, 1)\n",
        "    future_features = np.tile(np.mean(X_scaled, axis=0), (15, 1))  # Example: Predict based on mean features\n",
        "    future_predictions = rf.predict(future_features)\n",
        "\n",
        "    print(f\"Future Predictions for {district} (2018-2032):\")\n",
        "    print(future_predictions)\n",
        "\n",
        "# Print evaluation metrics for all districts\n",
        "print(\"\\nEvaluation Metrics:\")\n",
        "for district, metrics in results.items():\n",
        "    print(f\"{district}: {metrics}\")\n"
      ],
      "metadata": {
        "colab": {
          "base_uri": "https://localhost:8080/"
        },
        "id": "aOPxJkmk8u2z",
        "outputId": "f6f21a00-90f8-44f1-9557-b5430845e072"
      },
      "execution_count": null,
      "outputs": [
        {
          "output_type": "stream",
          "name": "stdout",
          "text": [
            "Processing district: Akola\n",
            "Future Predictions for Akola (2018-2032):\n",
            "[1008.1551 1008.1551 1008.1551 1008.1551 1008.1551 1008.1551 1008.1551\n",
            " 1008.1551 1008.1551 1008.1551 1008.1551 1008.1551 1008.1551 1008.1551\n",
            " 1008.1551]\n",
            "Processing district: Kolhapur\n",
            "Future Predictions for Kolhapur (2018-2032):\n",
            "[1362.6149 1362.6149 1362.6149 1362.6149 1362.6149 1362.6149 1362.6149\n",
            " 1362.6149 1362.6149 1362.6149 1362.6149 1362.6149 1362.6149 1362.6149\n",
            " 1362.6149]\n",
            "Processing district: Ratnagiri\n",
            "Future Predictions for Ratnagiri (2018-2032):\n",
            "[392.2496 392.2496 392.2496 392.2496 392.2496 392.2496 392.2496 392.2496\n",
            " 392.2496 392.2496 392.2496 392.2496 392.2496 392.2496 392.2496]\n",
            "Processing district: Pune\n",
            "Future Predictions for Pune (2018-2032):\n",
            "[1038.8 1038.8 1038.8 1038.8 1038.8 1038.8 1038.8 1038.8 1038.8 1038.8\n",
            " 1038.8 1038.8 1038.8 1038.8 1038.8]\n",
            "Processing district: Wardha\n",
            "Future Predictions for Wardha (2018-2032):\n",
            "[411.5539 411.5539 411.5539 411.5539 411.5539 411.5539 411.5539 411.5539\n",
            " 411.5539 411.5539 411.5539 411.5539 411.5539 411.5539 411.5539]\n",
            "\n",
            "Evaluation Metrics:\n",
            "Akola: {'MSE': 78146.11366267822, 'RMSE': 279.54626390398823, 'MAE': 189.96056363636353, 'MAPE': 15.566964970394956, 'R^2': 0.7213517225568655}\n",
            "Kolhapur: {'MSE': 30017.786137053623, 'RMSE': 173.25641730410342, 'MAE': 134.19699090909089, 'MAPE': 8.993026875114472, 'R^2': 0.9057115812103278}\n",
            "Ratnagiri: {'MSE': 1361.776849460908, 'RMSE': 36.902260763548185, 'MAE': 30.986281818181826, 'MAPE': 9.460818275746979, 'R^2': 0.8932112285907768}\n",
            "Pune: {'MSE': 55957.57948198902, 'RMSE': 236.55354464050845, 'MAE': 168.19859999999957, 'MAPE': 11.727753170016996, 'R^2': 0.8641305135221363}\n",
            "Wardha: {'MSE': 8664.121552900924, 'RMSE': 93.08126316773384, 'MAE': 57.77055454545457, 'MAPE': 13.509301400945747, 'R^2': 0.6853812205573717}\n"
          ]
        }
      ]
    },
    {
      "cell_type": "code",
      "source": [
        "# Updated Future Feature Projection\n",
        "for district in districts:\n",
        "    print(f\"Processing district: {district}\")\n",
        "\n",
        "    # Filter data for the district\n",
        "    district_data = df[df['Dist Name'] == district].copy()\n",
        "\n",
        "    # Drop non-predictive columns and separate the target\n",
        "    X = district_data.drop(columns=['Year', 'Dist Name', 'Production'])\n",
        "    y = district_data['Production']\n",
        "\n",
        "    # Add the Year column to features\n",
        "    X['Year'] = district_data['Year']\n",
        "\n",
        "    # Normalize features\n",
        "    scaler = MinMaxScaler()\n",
        "    X_scaled = scaler.fit_transform(X)\n",
        "\n",
        "    # Split into training and testing sets\n",
        "    X_train, X_test, y_train, y_test = train_test_split(X_scaled, y, test_size=0.2, random_state=42)\n",
        "\n",
        "    # Train the Random Forest model\n",
        "    rf = RandomForestRegressor(n_estimators=100, random_state=42)\n",
        "    rf.fit(X_train, y_train)\n",
        "\n",
        "    # Predict on test data\n",
        "    y_pred = rf.predict(X_test)\n",
        "\n",
        "    # Calculate evaluation metrics\n",
        "    metrics = calculate_metrics(y_test, y_pred)\n",
        "    results[district] = metrics\n",
        "\n",
        "    # Predict for the next 15 years\n",
        "    future_years = np.arange(2018, 2018 + 15)\n",
        "    future_features = []\n",
        "\n",
        "    # Calculate mean for numeric features only\n",
        "    numeric_columns = X.select_dtypes(include=np.number).columns\n",
        "    feature_means = X[numeric_columns].mean()\n",
        "\n",
        "    for year in future_years:\n",
        "        # Create future feature set\n",
        "        future_row = feature_means.copy()\n",
        "        future_row['Year'] = year  # Add future year\n",
        "        future_features.append(future_row.values)\n",
        "\n",
        "    future_features_scaled = scaler.transform(future_features)\n",
        "    future_predictions = rf.predict(future_features_scaled)\n",
        "\n",
        "    print(f\"Future Predictions for {district} (2018-2032):\")\n",
        "    print(future_predictions)\n",
        "\n",
        "# Print evaluation metrics for all districts\n",
        "print(\"\\nEvaluation Metrics:\")\n",
        "for district, metrics in results.items():\n",
        "    print(f\"{district}: {metrics}\")\n"
      ],
      "metadata": {
        "colab": {
          "base_uri": "https://localhost:8080/"
        },
        "id": "eNV_F7dcHwwu",
        "outputId": "753ac05d-78a9-4e6e-faa0-d3cf33db0f7d"
      },
      "execution_count": null,
      "outputs": [
        {
          "output_type": "stream",
          "name": "stdout",
          "text": [
            "Processing district: Akola\n"
          ]
        },
        {
          "output_type": "stream",
          "name": "stderr",
          "text": [
            "/usr/local/lib/python3.10/dist-packages/sklearn/utils/validation.py:2739: UserWarning: X does not have valid feature names, but MinMaxScaler was fitted with feature names\n",
            "  warnings.warn(\n"
          ]
        },
        {
          "output_type": "stream",
          "name": "stdout",
          "text": [
            "Future Predictions for Akola (2018-2032):\n",
            "[1055.6823 1055.6823 1055.6823 1055.6823 1055.6823 1055.6823 1055.6823\n",
            " 1055.6823 1055.6823 1055.6823 1055.6823 1055.6823 1055.6823 1055.6823\n",
            " 1055.6823]\n",
            "Processing district: Kolhapur\n"
          ]
        },
        {
          "output_type": "stream",
          "name": "stderr",
          "text": [
            "/usr/local/lib/python3.10/dist-packages/sklearn/utils/validation.py:2739: UserWarning: X does not have valid feature names, but MinMaxScaler was fitted with feature names\n",
            "  warnings.warn(\n"
          ]
        },
        {
          "output_type": "stream",
          "name": "stdout",
          "text": [
            "Future Predictions for Kolhapur (2018-2032):\n",
            "[1401.5725 1401.5725 1401.5725 1401.5725 1401.5725 1401.5725 1401.5725\n",
            " 1401.5725 1401.5725 1401.5725 1401.5725 1401.5725 1401.5725 1401.5725\n",
            " 1401.5725]\n",
            "Processing district: Ratnagiri\n"
          ]
        },
        {
          "output_type": "stream",
          "name": "stderr",
          "text": [
            "/usr/local/lib/python3.10/dist-packages/sklearn/utils/validation.py:2739: UserWarning: X does not have valid feature names, but MinMaxScaler was fitted with feature names\n",
            "  warnings.warn(\n"
          ]
        },
        {
          "output_type": "stream",
          "name": "stdout",
          "text": [
            "Future Predictions for Ratnagiri (2018-2032):\n",
            "[390.4853 390.4853 390.4853 390.4853 390.4853 390.4853 390.4853 390.4853\n",
            " 390.4853 390.4853 390.4853 390.4853 390.4853 390.4853 390.4853]\n",
            "Processing district: Pune\n"
          ]
        },
        {
          "output_type": "stream",
          "name": "stderr",
          "text": [
            "/usr/local/lib/python3.10/dist-packages/sklearn/utils/validation.py:2739: UserWarning: X does not have valid feature names, but MinMaxScaler was fitted with feature names\n",
            "  warnings.warn(\n"
          ]
        },
        {
          "output_type": "stream",
          "name": "stdout",
          "text": [
            "Future Predictions for Pune (2018-2032):\n",
            "[1103.3607 1103.3607 1103.3607 1103.3607 1103.3607 1103.3607 1103.3607\n",
            " 1103.3607 1103.3607 1103.3607 1103.3607 1103.3607 1103.3607 1103.3607\n",
            " 1103.3607]\n",
            "Processing district: Wardha\n",
            "Future Predictions for Wardha (2018-2032):\n",
            "[456.0208 456.0208 456.0208 456.0208 456.0208 456.0208 456.0208 456.0208\n",
            " 456.0208 456.0208 456.0208 456.0208 456.0208 456.0208 456.0208]\n",
            "\n",
            "Evaluation Metrics:\n",
            "Akola: {'MSE': 83091.53122468188, 'RMSE': 288.2560168056894, 'MAE': 197.71070909090903, 'MAPE': 16.452965294504178, 'R^2': 0.7037176775570375}\n",
            "Kolhapur: {'MSE': 26264.47984615634, 'RMSE': 162.06319707495697, 'MAE': 128.37399999999997, 'MAPE': 8.779063337105757, 'R^2': 0.9175010354287784}\n",
            "Ratnagiri: {'MSE': 1088.6390978918168, 'RMSE': 32.99453133311363, 'MAE': 28.076209090909103, 'MAPE': 7.89394042603484, 'R^2': 0.914630336227309}\n",
            "Pune: {'MSE': 56094.137137620004, 'RMSE': 236.8420088109793, 'MAE': 168.9374363636361, 'MAPE': 11.846702501844492, 'R^2': 0.8637989405928395}\n",
            "Wardha: {'MSE': 8987.699129982757, 'RMSE': 94.80347636021982, 'MAE': 59.22084545454554, 'MAPE': 13.78126561945225, 'R^2': 0.6736312027702364}\n"
          ]
        },
        {
          "output_type": "stream",
          "name": "stderr",
          "text": [
            "/usr/local/lib/python3.10/dist-packages/sklearn/utils/validation.py:2739: UserWarning: X does not have valid feature names, but MinMaxScaler was fitted with feature names\n",
            "  warnings.warn(\n"
          ]
        }
      ]
    },
    {
      "cell_type": "code",
      "source": [
        "# Function to calculate trends for numeric features\n",
        "def calculate_feature_trends(data, numeric_columns):\n",
        "    trends = {}\n",
        "    for col in numeric_columns:\n",
        "        # Perform linear regression to estimate trends\n",
        "        years = data['Year'].values.reshape(-1, 1)\n",
        "        values = data[col].values\n",
        "        if len(np.unique(values)) > 1:  # Only calculate trends if there is variation\n",
        "            coef = np.polyfit(years.flatten(), values, 1)  # Linear fit\n",
        "            trends[col] = coef\n",
        "        else:\n",
        "            trends[col] = (0, values.mean())  # No trend, use mean\n",
        "    return trends\n",
        "\n",
        "# Generate future features based on trends\n",
        "def generate_future_features(trends, future_years, numeric_columns):\n",
        "    future_features = []\n",
        "    for year in future_years:\n",
        "        row = {}\n",
        "        for col in numeric_columns:\n",
        "            coef = trends[col]\n",
        "            row[col] = coef[0] * year + coef[1]  # Linear projection: y = mx + c\n",
        "        row['Year'] = year\n",
        "        future_features.append(row)\n",
        "    return pd.DataFrame(future_features)\n",
        "\n",
        "# Updated Future Feature Projection\n",
        "for district in districts:\n",
        "    print(f\"Processing district: {district}\")\n",
        "\n",
        "    # Filter data for the district\n",
        "    district_data = df[df['Dist Name'] == district].copy()\n",
        "\n",
        "    # Drop non-predictive columns and separate the target\n",
        "    X = district_data.drop(columns=['Year', 'Dist Name', 'Production','Area'])\n",
        "    y = district_data['Production']\n",
        "\n",
        "    # Add the Year column to features\n",
        "    X['Year'] = district_data['Year']\n",
        "\n",
        "    # Normalize features\n",
        "    scaler = MinMaxScaler()\n",
        "    X_scaled = scaler.fit_transform(X)\n",
        "\n",
        "    # Split into training and testing sets\n",
        "    X_train, X_test, y_train, y_test = train_test_split(X_scaled, y, test_size=0.2, random_state=42)\n",
        "\n",
        "    # Train the Random Forest model\n",
        "    rf = RandomForestRegressor(n_estimators=100, random_state=42)\n",
        "    rf.fit(X_train, y_train)\n",
        "\n",
        "    # Predict on test data\n",
        "    y_pred = rf.predict(X_test)\n",
        "\n",
        "    # Calculate evaluation metrics\n",
        "    metrics = calculate_metrics(y_test, y_pred)\n",
        "    results[district] = metrics\n",
        "\n",
        "    # Predict for the next 15 years\n",
        "    future_years = np.arange(2018, 2018 + 15)\n",
        "    numeric_columns = X.select_dtypes(include=np.number).columns\n",
        "    trends = calculate_feature_trends(district_data, numeric_columns)\n",
        "    future_features = generate_future_features(trends, future_years, numeric_columns)\n",
        "\n",
        "    future_features_scaled = scaler.transform(future_features)\n",
        "    future_predictions = rf.predict(future_features_scaled)\n",
        "\n",
        "    print(f\"Future Predictions for {district} (2018-2032):\")\n",
        "    print(future_predictions)\n",
        "\n",
        "# Print evaluation metrics for all districts\n",
        "print(\"\\nEvaluation Metrics:\")\n",
        "for district, metrics in results.items():\n",
        "    print(f\"{district}: {metrics}\")\n"
      ],
      "metadata": {
        "colab": {
          "base_uri": "https://localhost:8080/"
        },
        "id": "7YZHjsyUJLd8",
        "outputId": "62bdc0c7-285a-44da-c1e5-9aa208f37c63"
      },
      "execution_count": null,
      "outputs": [
        {
          "output_type": "stream",
          "name": "stdout",
          "text": [
            "Processing district: Akola\n",
            "Future Predictions for Akola (2018-2032):\n",
            "[1459.7053 1472.9156 1470.4449 1565.0148 1554.4451 1556.5132 1558.7853\n",
            " 1546.703  1551.885  1540.7846 1537.3733 1532.8926 1560.9947 1551.6144\n",
            " 1550.5015]\n",
            "Processing district: Kolhapur\n",
            "Future Predictions for Kolhapur (2018-2032):\n",
            "[2239.4822 2241.6459 2241.6459 2241.699  2241.699  2241.699  2221.9634\n",
            " 2221.9811 2223.3    2223.3    2223.3    2222.4729 2223.4514 2223.4514\n",
            " 2223.4514]\n",
            "Processing district: Ratnagiri\n",
            "Future Predictions for Ratnagiri (2018-2032):\n",
            "[465.5341 464.8023 465.2984 465.4673 465.4015 467.0825 467.6475 466.7925\n",
            " 471.5715 471.5715 471.5038 471.5038 472.2618 472.2618 472.0132]\n",
            "Processing district: Pune\n",
            "Future Predictions for Pune (2018-2032):\n",
            "[2050.5808 2058.3172 2076.7024 2068.3638 2076.7209 2081.2258 2079.8013\n",
            " 2085.5867 2101.4142 2101.4142 2112.1108 2117.1648 2121.1405 2121.6058\n",
            " 2121.6704]\n",
            "Processing district: Wardha\n",
            "Future Predictions for Wardha (2018-2032):\n",
            "[540.4135 536.2156 532.6254 531.8762 529.4051 526.7663 527.3074 530.1163\n",
            " 527.0001 527.9339 527.9525 530.3645 530.3645 530.9059 529.1504]\n",
            "\n",
            "Evaluation Metrics:\n",
            "Akola: {'MSE': 88250.10598446915, 'RMSE': 297.06919393378564, 'MAE': 196.32654545454545, 'MAPE': 16.030327704437013, 'R^2': 0.6853235706270232}\n",
            "Kolhapur: {'MSE': 29198.048362814625, 'RMSE': 170.87436426455147, 'MAE': 131.19550909090933, 'MAPE': 8.728922210985845, 'R^2': 0.9082864472648152}\n",
            "Ratnagiri: {'MSE': 1191.6078676727266, 'RMSE': 34.51967363218729, 'MAE': 29.495818181818183, 'MAPE': 8.43304617287498, 'R^2': 0.9065556590709339}\n",
            "Pune: {'MSE': 50485.91922718714, 'RMSE': 224.69071904995798, 'MAE': 156.95590909090876, 'MAPE': 11.565503880708503, 'R^2': 0.8774161430272609}\n",
            "Wardha: {'MSE': 9001.933460013657, 'RMSE': 94.87851948683462, 'MAE': 60.265081818181926, 'MAPE': 14.057436749231488, 'R^2': 0.6731143139531577}\n"
          ]
        }
      ]
    },
    {
      "cell_type": "code",
      "source": [
        "The Gradient Boosting Regressor (GBR) algorithm is used here to predict agricultural attributes like production, yield, and climatic factors across different districts. GBR builds an ensemble of decision trees, where each tree is trained to correct the errors of its predecessor. This sequential approach makes it highly effective for complex, non-linear data patterns, which is typical in agricultural datasets that involve multiple features with varying relationships. GBR is particularly useful in this scenario because it can effectively handle small datasets and capture intricate patterns between variables such as temperature, precipitation, and fertilizer consumption. Its ability to model complex relationships allows for more accurate predictions in regions with varying agricultural conditions.\n",
        "\n",
        "Fine-tuning for GBR is done using GridSearchCV, which tests multiple combinations of hyperparameters such as the number of estimators (trees), learning rate, and tree depth to find the optimal configuration for each district's data. This process improves model performance by reducing overfitting and enhancing prediction accuracy. After fine-tuning, the best model is used to generate predictions, which are then evaluated using metrics like R² and MSE to assess the model's accuracy. The fine-tuned GBR model is applied individually to each district, providing reliable predictions that account for regional variations in agricultural practices, thus assisting in long-term planning and decision-making for sustainable agricultural growth."
      ],
      "metadata": {
        "colab": {
          "base_uri": "https://localhost:8080/"
        },
        "id": "f7B41c7go38m",
        "outputId": "e1b86901-5387-478f-f5e0-398023be3c9d"
      },
      "execution_count": null,
      "outputs": [
        {
          "output_type": "stream",
          "name": "stdout",
          "text": [
            "Processing district: Akola\n",
            "Fitting 3 folds for each of 100 candidates, totalling 300 fits\n",
            "Best parameters for Akola: {'n_estimators': 100, 'min_samples_split': 10, 'min_samples_leaf': 2, 'max_features': 'log2', 'max_depth': None}\n",
            "Future Predictions for Akola (2018-2032):\n",
            "[1445.59942752 1468.82673202 1468.82673202 1476.97256535 1473.87752091\n",
            " 1482.19542091 1487.48900395 1477.60001728 1477.60001728 1477.60001728\n",
            " 1477.60001728 1467.49109061 1480.42632506 1480.42632506 1477.32810006]\n",
            "Processing district: Kolhapur\n",
            "Fitting 3 folds for each of 100 candidates, totalling 300 fits\n",
            "Best parameters for Kolhapur: {'n_estimators': 50, 'min_samples_split': 5, 'min_samples_leaf': 1, 'max_features': 'sqrt', 'max_depth': 30}\n",
            "Future Predictions for Kolhapur (2018-2032):\n",
            "[2157.6431131 2157.6431131 2157.6431131 2157.6431131 2157.6431131\n",
            " 2157.6431131 2143.0903931 2143.0903931 2143.0903931 2143.0903931\n",
            " 2143.0903931 2143.0903931 2143.0903931 2143.0903931 2143.0903931]\n",
            "Processing district: Ratnagiri\n",
            "Fitting 3 folds for each of 100 candidates, totalling 300 fits\n",
            "Best parameters for Ratnagiri: {'n_estimators': 50, 'min_samples_split': 5, 'min_samples_leaf': 1, 'max_features': 'sqrt', 'max_depth': 30}\n",
            "Future Predictions for Ratnagiri (2018-2032):\n",
            "[458.89101079 456.38693079 456.38693079 456.38693079 454.26801079\n",
            " 452.67354571 455.00869571 455.00869571 459.61826238 461.18941238\n",
            " 461.18941238 461.18941238 461.18941238 461.18941238 461.18941238]\n",
            "Processing district: Pune\n",
            "Fitting 3 folds for each of 100 candidates, totalling 300 fits\n",
            "Best parameters for Pune: {'n_estimators': 50, 'min_samples_split': 2, 'min_samples_leaf': 2, 'max_features': 'sqrt', 'max_depth': 40}\n",
            "Future Predictions for Pune (2018-2032):\n",
            "[2088.27521952 2088.27521952 2095.63738619 2105.07718619 2109.96838619\n",
            " 2115.52408619 2115.56588619 2121.22976619 2133.61531619 2133.61531619\n",
            " 2133.61531619 2133.61531619 2133.61531619 2133.65711619 2133.65711619]\n",
            "Processing district: Wardha\n",
            "Fitting 3 folds for each of 100 candidates, totalling 300 fits\n",
            "Best parameters for Wardha: {'n_estimators': 300, 'min_samples_split': 5, 'min_samples_leaf': 1, 'max_features': 'sqrt', 'max_depth': None}\n",
            "Future Predictions for Wardha (2018-2032):\n",
            "[508.82136474 505.56672537 505.56058259 498.2688293  491.45644612\n",
            " 488.00851779 481.26582724 469.79811254 456.53957437 448.48719659\n",
            " 449.18462683 453.18044349 451.57568659 449.11742992 451.47195849]\n",
            "\n",
            "Evaluation Metrics:\n",
            "Akola: {'MSE': 100788.17792733753, 'RMSE': 317.4715387673949, 'MAE': 204.5405081277472, 'MAPE': 17.914934358519744, 'R^2': 0.6406161375175642}\n",
            "Kolhapur: {'MSE': 30393.749049509268, 'RMSE': 174.33803099011203, 'MAE': 131.4460696772925, 'MAPE': 8.700996667459169, 'R^2': 0.9045306497326648}\n",
            "Ratnagiri: {'MSE': 1455.1045961509355, 'RMSE': 38.14583327377888, 'MAE': 33.09000774891775, 'MAPE': 11.247911457709693, 'R^2': 0.885892587940244}\n",
            "Pune: {'MSE': 50178.95395774708, 'RMSE': 224.006593558643, 'MAE': 151.6420657431456, 'MAPE': 10.913973286007629, 'R^2': 0.8781614792964751}\n",
            "Wardha: {'MSE': 9051.709219206923, 'RMSE': 95.14047098478609, 'MAE': 60.5421761140711, 'MAPE': 13.959833451124615, 'R^2': 0.6713068152347248}\n"
          ]
        }
      ]
    },
    {
      "cell_type": "markdown",
      "source": [
        "# Vishakha 18 Jan"
      ],
      "metadata": {
        "id": "caYhYaW1Gt5J"
      }
    },
    {
      "cell_type": "code",
      "source": [
        "from sklearn.ensemble import RandomForestRegressor\n",
        "from sklearn.model_selection import RandomizedSearchCV\n",
        "from sklearn.metrics import mean_squared_error, r2_score\n",
        "import pandas as pd\n",
        "import numpy as np\n",
        "from joblib import Parallel, delayed\n",
        "\n",
        "# Load the dataset\n",
        "file_path = '/content/maharashtra_aggregate_1966_2017.csv'  # Adjust path if needed\n",
        "data = pd.read_csv(file_path)\n",
        "data = data.drop(columns=['TOTAL AREA (1000 ha)', 'State Name'], errors='ignore')  # Adjust column names as necessary\n",
        "\n",
        "# Define future years for forecasting\n",
        "future_years = list(range(2018, 2026)) + [2030, 2035, 2040, 2045]\n",
        "\n",
        "# Districts to process\n",
        "districts = [\n",
        "    \"Ahmednagar\", \"Akola\", \"Amarawati\", \"Aurangabad\", \"Beed\", \"Bhandara\",\n",
        "    \"Buldhana\", \"Chandrapur\", \"Dhule\", \"Jalgaon\", \"Kolhapur\", \"Nagpur\",\n",
        "    \"Nanded\", \"Nasik\", \"Osmanabad\", \"Parbhani\", \"Pune\", \"Sangli\",\n",
        "    \"Satara\", \"Solapur\", \"Yeotmal\"\n",
        "]\n",
        "\n",
        "# Define target columns\n",
        "target_columns = data.columns.drop(['Year', 'Dist Name'], errors='ignore')  # Exclude non-target columns\n"
      ],
      "metadata": {
        "id": "1dFrxbkEGvhA"
      },
      "execution_count": null,
      "outputs": []
    },
    {
      "cell_type": "markdown",
      "source": [
        "Define Hyperparameter Grid and Processing Function"
      ],
      "metadata": {
        "id": "Kcfye7xPIZV6"
      }
    },
    {
      "cell_type": "code",
      "source": [
        "# Define hyperparameter tuning grid\n",
        "param_distributions = {\n",
        "    'n_estimators': [100, 200, 300, 500],\n",
        "    'max_depth': [10, 20, None],\n",
        "    'min_samples_split': [2, 5, 10],\n",
        "    'min_samples_leaf': [1, 2, 4],\n",
        "    'bootstrap': [True, False]\n",
        "}\n",
        "\n",
        "# Function to process each district and target column\n",
        "def process_district(district):\n",
        "    results = {'fine_tuning': [], 'forecasting': []}\n",
        "    district_data = data[data['Dist Name'] == district]\n",
        "\n",
        "    for target_column in target_columns:\n",
        "        # Prepare features (X) and target (y)\n",
        "        X = district_data.drop(columns=['Year', 'Dist Name', target_column], errors='ignore')\n",
        "        y = district_data[target_column]\n",
        "\n",
        "        # Skip if insufficient data\n",
        "        if len(y) < 5:\n",
        "            continue\n",
        "\n",
        "        # Train on historical data\n",
        "        X_train = X\n",
        "        y_train = y\n",
        "\n",
        "        # Randomized search for hyperparameter tuning\n",
        "        rf = RandomForestRegressor(random_state=42)\n",
        "        random_search = RandomizedSearchCV(\n",
        "            estimator=rf,\n",
        "            param_distributions=param_distributions,\n",
        "            n_iter=10,  # Reducing iterations for speed\n",
        "            cv=2,\n",
        "            scoring='neg_mean_squared_error',\n",
        "            n_jobs=-1,\n",
        "            verbose=0\n",
        "        )\n",
        "        random_search.fit(X_train, y_train)\n",
        "\n",
        "        # Best parameters and model\n",
        "        best_params = random_search.best_params_\n",
        "        best_model = random_search.best_estimator_\n",
        "\n",
        "        # Forecasting future years\n",
        "        future_data = district_data.iloc[:len(future_years)].copy()\n",
        "        future_data['Year'] = future_years\n",
        "        future_X = future_data.drop(columns=['Year', 'Dist Name', target_column], errors='ignore')\n",
        "        future_predictions = best_model.predict(future_X)\n",
        "\n",
        "        # Store fine-tuning results\n",
        "        mse = mean_squared_error(y_train, best_model.predict(X_train))\n",
        "        r2 = r2_score(y_train, best_model.predict(X_train))\n",
        "        results['fine_tuning'].append({\n",
        "            'District': district,\n",
        "            'Target Column': target_column,\n",
        "            'Best Parameters': best_params,\n",
        "            'MSE': mse,\n",
        "            'R²': r2\n",
        "        })\n",
        "\n",
        "        # Store forecasted results\n",
        "        for year, prediction in zip(future_years, future_predictions):\n",
        "            results['forecasting'].append({\n",
        "                'District': district,\n",
        "                'Year': year,\n",
        "                'Target Column': target_column,\n",
        "                'Forecasted Value': prediction\n",
        "            })\n",
        "\n",
        "    return results\n"
      ],
      "metadata": {
        "id": "6L0-HBb3IVXp"
      },
      "execution_count": null,
      "outputs": []
    },
    {
      "cell_type": "markdown",
      "source": [
        "Run Parallel Processing for All Districts"
      ],
      "metadata": {
        "id": "1ifxknSDIdxR"
      }
    },
    {
      "cell_type": "code",
      "source": [
        "# Run processing in parallel\n",
        "all_results = Parallel(n_jobs=-1)(delayed(process_district)(district) for district in districts)\n",
        "\n",
        "# Combine results\n",
        "fine_tuning_results = [item for result in all_results for item in result['fine_tuning']]\n",
        "forecasted_results = [item for result in all_results for item in result['forecasting']]\n",
        "\n",
        "# Save fine-tuning metrics to CSV\n",
        "metrics_df = pd.DataFrame(fine_tuning_results)\n",
        "metrics_csv_path = '/content/RF_fine_tuning_results.csv'\n",
        "metrics_df.to_csv(metrics_csv_path, index=False)\n",
        "print(f\"Fine-tuning results saved to {metrics_csv_path}\")\n",
        "\n",
        "# Save forecasted results to CSV\n",
        "forecasted_df = pd.DataFrame(forecasted_results)\n",
        "forecasted_csv_path = '/content/RF_forecasted_future_values.csv'\n",
        "forecasted_df.to_csv(forecasted_csv_path, index=False)\n",
        "print(f\"Forecasted values saved to {forecasted_csv_path}\")\n"
      ],
      "metadata": {
        "colab": {
          "base_uri": "https://localhost:8080/"
        },
        "id": "Z22lgYnfIb-W",
        "outputId": "05a7fb89-8944-44fa-bc60-7b231a7f69ce"
      },
      "execution_count": null,
      "outputs": [
        {
          "output_type": "stream",
          "name": "stdout",
          "text": [
            "Fine-tuning results saved to /content/RF_fine_tuning_results.csv\n",
            "Forecasted values saved to /content/RF_forecasted_future_values.csv\n"
          ]
        }
      ]
    },
    {
      "cell_type": "markdown",
      "source": [
        "Aggregate Metrics and Save Summaries"
      ],
      "metadata": {
        "id": "1pG3q8vtIgNs"
      }
    },
    {
      "cell_type": "code",
      "source": [
        "# Calculate aggregate fine-tuning metrics by district\n",
        "aggregate_metrics = []\n",
        "for district in metrics_df['District'].unique():\n",
        "    district_metrics = metrics_df[metrics_df['District'] == district]\n",
        "\n",
        "    avg_mse = district_metrics['MSE'].mean()\n",
        "    avg_r2 = district_metrics['R²'].mean()\n",
        "\n",
        "    aggregate_metrics.append({\n",
        "        'District': district,\n",
        "        'Avg MSE': avg_mse,\n",
        "        'Avg R²': avg_r2\n",
        "    })\n",
        "\n",
        "# Save aggregated metrics to CSV\n",
        "aggregate_metrics_df = pd.DataFrame(aggregate_metrics)\n",
        "aggregate_metrics_csv_path = '/content/RF_aggregate_fine_tuning_metrics.csv'\n",
        "aggregate_metrics_df.to_csv(aggregate_metrics_csv_path, index=False)\n",
        "print(f\"Aggregate fine-tuning metrics saved to {aggregate_metrics_csv_path}\")\n",
        "\n",
        "# Aggregate forecast summaries by district and year\n",
        "forecast_summaries = []\n",
        "for district in forecasted_df['District'].unique():\n",
        "    district_forecasts = forecasted_df[forecasted_df['District'] == district]\n",
        "\n",
        "    for year in district_forecasts['Year'].unique():\n",
        "        year_forecasts = district_forecasts[district_forecasts['Year'] == year]\n",
        "\n",
        "        avg_forecast = year_forecasts['Forecasted Value'].mean()\n",
        "\n",
        "        forecast_summaries.append({\n",
        "            'District': district,\n",
        "            'Year': year,\n",
        "            'Avg Forecasted Value': avg_forecast\n",
        "        })\n",
        "\n",
        "# Save forecast summaries to CSV\n",
        "forecast_summary_df = pd.DataFrame(forecast_summaries)\n",
        "forecast_summary_csv_path = '/content/RF_forecast_summary.csv'\n",
        "forecast_summary_df.to_csv(forecast_summary_csv_path, index=False)\n",
        "print(f\"Forecast summaries saved to {forecast_summary_csv_path}\")\n"
      ],
      "metadata": {
        "colab": {
          "base_uri": "https://localhost:8080/"
        },
        "id": "B7uGH_CTIgls",
        "outputId": "e33d140e-853a-45b5-996b-6473cf91d6f5"
      },
      "execution_count": null,
      "outputs": [
        {
          "output_type": "stream",
          "name": "stdout",
          "text": [
            "Aggregate fine-tuning metrics saved to /content/RF_aggregate_fine_tuning_metrics.csv\n",
            "Forecast summaries saved to /content/RF_forecast_summary.csv\n"
          ]
        }
      ]
    },
    {
      "cell_type": "markdown",
      "source": [
        "Print Results"
      ],
      "metadata": {
        "id": "Mu_cQe8dIjb2"
      }
    },
    {
      "cell_type": "code",
      "source": [
        "# Print aggregate metrics\n",
        "print(\"\\nAggregate Fine-Tuning Metrics:\")\n",
        "print(aggregate_metrics_df)\n",
        "\n",
        "# Print forecast summary\n",
        "print(\"\\nForecast Summary:\")\n",
        "print(forecast_summary_df)\n"
      ],
      "metadata": {
        "colab": {
          "base_uri": "https://localhost:8080/"
        },
        "id": "awQTw6mYIjt2",
        "outputId": "55e82a8d-2c75-4c92-e65d-44f338eb8aaf"
      },
      "execution_count": null,
      "outputs": [
        {
          "output_type": "stream",
          "name": "stdout",
          "text": [
            "\n",
            "Aggregate Fine-Tuning Metrics:\n",
            "      District       Avg MSE    Avg R²\n",
            "0   Ahmednagar  3.438887e+05  0.939631\n",
            "1        Akola  1.946714e+05  0.943867\n",
            "2    Amarawati  1.185667e+05  0.927274\n",
            "3         Beed  1.497434e+05  0.909926\n",
            "4     Bhandara  1.643366e+05  0.900408\n",
            "5     Buldhana  1.511269e+05  0.943752\n",
            "6   Chandrapur  8.567797e+04  0.934092\n",
            "7        Dhule  8.495825e+04  0.931694\n",
            "8      Jalgaon  4.536239e+04  0.935625\n",
            "9     Kolhapur  1.066227e+05  0.926436\n",
            "10      Nagpur  1.604328e+05  0.928035\n",
            "11      Nanded  1.476730e+04  0.909378\n",
            "12       Nasik  2.328904e+05  0.922410\n",
            "13   Osmanabad  1.059048e+05  0.938908\n",
            "14    Parbhani  2.344727e+04  0.934387\n",
            "15        Pune  3.215764e+05  0.904351\n",
            "16      Sangli  1.014062e+06  0.922289\n",
            "17      Satara  7.896730e+04  0.932669\n",
            "18     Solapur  1.175290e+05  0.919814\n",
            "19     Yeotmal  1.282640e+05  0.922870\n",
            "\n",
            "Forecast Summary:\n",
            "       District  Year  Avg Forecasted Value\n",
            "0    Ahmednagar  2018           1040.698694\n",
            "1    Ahmednagar  2019           1247.207707\n",
            "2    Ahmednagar  2020           1116.242504\n",
            "3    Ahmednagar  2021           1510.229296\n",
            "4    Ahmednagar  2022           1549.169026\n",
            "..          ...   ...                   ...\n",
            "235     Yeotmal  2025            958.759298\n",
            "236     Yeotmal  2030           1430.608196\n",
            "237     Yeotmal  2035           1113.541270\n",
            "238     Yeotmal  2040           1382.968141\n",
            "239     Yeotmal  2045           1413.238470\n",
            "\n",
            "[240 rows x 3 columns]\n"
          ]
        }
      ]
    }
  ]
}